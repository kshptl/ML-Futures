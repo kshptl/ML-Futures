{
 "cells": [
  {
   "cell_type": "code",
   "execution_count": 1,
   "id": "2dcdb93f-5ecc-43ee-8aaf-b065a244f0e4",
   "metadata": {
    "tags": []
   },
   "outputs": [],
   "source": [
    "import pandas as pd\n",
    "import numpy as np\n",
    "import scipy as sp\n",
    "import sklearn as sk"
   ]
  },
  {
   "cell_type": "code",
   "execution_count": 2,
   "id": "f50c5f21-596a-46a6-8800-e5e28ed73941",
   "metadata": {
    "tags": []
   },
   "outputs": [
    {
     "name": "stdout",
     "output_type": "stream",
     "text": [
      "None\n"
     ]
    }
   ],
   "source": [
    "import pandas as pd\n",
    "\n",
    "\n",
    "class Problem:\n",
    "    df = pd.DataFrame(\n",
    "        data=[\n",
    "            {\"state\": \"Arizona\", \"county\": \"Maricopa\", \"cases\": 349852},\n",
    "            {\"state\": \"Arizona\", \"county\": \"Mohave\", \"cases\": 13938},\n",
    "            {\"state\": \"Arizona\", \"county\": \"Navajo\", \"cases\": 11991},\n",
    "            {\"state\": \"Arizona\", \"county\": \"Pima\", \"cases\": 75584},\n",
    "            {\"state\": \"California\", \"county\": \"Los Angeles\", \"cases\": 813022},\n",
    "            {\"state\": \"California\", \"county\": \"Orange\", \"cases\": 172458},\n",
    "            {\"state\": \"California\", \"county\": \"Sacramento\", \"cases\": 70164},\n",
    "            {\"state\": \"California\", \"county\": \"San_Francisco\", \"cases\": 24753},\n",
    "            {\"state\": \"Nevada\", \"county\": \"Churchill\", \"cases\": 1426},\n",
    "            {\"state\": \"Nevada\", \"county\": \"Clark\", \"cases\": 176731},\n",
    "            {\"state\": \"Nevada\", \"county\": \"Douglas\", \"cases\": 2047},\n",
    "            {\"state\": \"Nevada\", \"county\": \"Washoe\", \"cases\": 36490},\n",
    "            {\"state\": \"Oregon\", \"county\": \"Clackamas\", \"cases\": 10545},\n",
    "            {\"state\": \"Oregon\", \"county\": \"Lane\", \"cases\": 7287},\n",
    "            {\"state\": \"Oregon\", \"county\": \"Marion\", \"cases\": 14660},\n",
    "            {\"state\": \"Oregon\", \"county\": \"Multnomah\", \"cases\": 26180},\n",
    "        ]\n",
    "    )\n",
    "\n",
    "    def solve(self, state: str) -> int:\n",
    "        \"\"\"Solve the question.\n",
    "        Parameters\n",
    "        ----------\n",
    "        state: str\n",
    "            The state for which to pull the maximum\n",
    "\n",
    "        Returns\n",
    "        -------\n",
    "        int\n",
    "            The higest number of cases among all counties in given state\n",
    "        \"\"\"\n",
    "        return None\n",
    "\n",
    "\n",
    "print(Problem().solve(\"Nevada\"))"
   ]
  },
  {
   "cell_type": "code",
   "execution_count": 20,
   "id": "8ef2ebc3-c835-4f1e-9c86-8b9d9784516e",
   "metadata": {
    "tags": []
   },
   "outputs": [
    {
     "data": {
      "text/plain": [
       "176731"
      ]
     },
     "execution_count": 20,
     "metadata": {},
     "output_type": "execute_result"
    }
   ],
   "source": [
    "Problem.df[Problem.df.state == 'Nevada'].sort_values('cases', ascending=False).iloc[0].cases"
   ]
  },
  {
   "cell_type": "code",
   "execution_count": 18,
   "id": "5536f66a-6ac5-48b4-aae1-8f9c049c93bb",
   "metadata": {
    "tags": []
   },
   "outputs": [
    {
     "data": {
      "text/html": [
       "<div>\n",
       "<style scoped>\n",
       "    .dataframe tbody tr th:only-of-type {\n",
       "        vertical-align: middle;\n",
       "    }\n",
       "\n",
       "    .dataframe tbody tr th {\n",
       "        vertical-align: top;\n",
       "    }\n",
       "\n",
       "    .dataframe thead th {\n",
       "        text-align: right;\n",
       "    }\n",
       "</style>\n",
       "<table border=\"1\" class=\"dataframe\">\n",
       "  <thead>\n",
       "    <tr style=\"text-align: right;\">\n",
       "      <th></th>\n",
       "      <th>state</th>\n",
       "      <th>county</th>\n",
       "      <th>cases</th>\n",
       "    </tr>\n",
       "  </thead>\n",
       "  <tbody>\n",
       "    <tr>\n",
       "      <th>0</th>\n",
       "      <td>Arizona</td>\n",
       "      <td>Maricopa</td>\n",
       "      <td>349852</td>\n",
       "    </tr>\n",
       "    <tr>\n",
       "      <th>1</th>\n",
       "      <td>Arizona</td>\n",
       "      <td>Mohave</td>\n",
       "      <td>13938</td>\n",
       "    </tr>\n",
       "    <tr>\n",
       "      <th>2</th>\n",
       "      <td>Arizona</td>\n",
       "      <td>Navajo</td>\n",
       "      <td>11991</td>\n",
       "    </tr>\n",
       "    <tr>\n",
       "      <th>3</th>\n",
       "      <td>Arizona</td>\n",
       "      <td>Pima</td>\n",
       "      <td>75584</td>\n",
       "    </tr>\n",
       "    <tr>\n",
       "      <th>4</th>\n",
       "      <td>California</td>\n",
       "      <td>Los Angeles</td>\n",
       "      <td>813022</td>\n",
       "    </tr>\n",
       "    <tr>\n",
       "      <th>5</th>\n",
       "      <td>California</td>\n",
       "      <td>Orange</td>\n",
       "      <td>172458</td>\n",
       "    </tr>\n",
       "    <tr>\n",
       "      <th>6</th>\n",
       "      <td>California</td>\n",
       "      <td>Sacramento</td>\n",
       "      <td>70164</td>\n",
       "    </tr>\n",
       "    <tr>\n",
       "      <th>7</th>\n",
       "      <td>California</td>\n",
       "      <td>San_Francisco</td>\n",
       "      <td>24753</td>\n",
       "    </tr>\n",
       "    <tr>\n",
       "      <th>8</th>\n",
       "      <td>Nevada</td>\n",
       "      <td>Churchill</td>\n",
       "      <td>1426</td>\n",
       "    </tr>\n",
       "    <tr>\n",
       "      <th>9</th>\n",
       "      <td>Nevada</td>\n",
       "      <td>Clark</td>\n",
       "      <td>176731</td>\n",
       "    </tr>\n",
       "    <tr>\n",
       "      <th>10</th>\n",
       "      <td>Nevada</td>\n",
       "      <td>Douglas</td>\n",
       "      <td>2047</td>\n",
       "    </tr>\n",
       "    <tr>\n",
       "      <th>11</th>\n",
       "      <td>Nevada</td>\n",
       "      <td>Washoe</td>\n",
       "      <td>36490</td>\n",
       "    </tr>\n",
       "    <tr>\n",
       "      <th>12</th>\n",
       "      <td>Oregon</td>\n",
       "      <td>Clackamas</td>\n",
       "      <td>10545</td>\n",
       "    </tr>\n",
       "    <tr>\n",
       "      <th>13</th>\n",
       "      <td>Oregon</td>\n",
       "      <td>Lane</td>\n",
       "      <td>7287</td>\n",
       "    </tr>\n",
       "    <tr>\n",
       "      <th>14</th>\n",
       "      <td>Oregon</td>\n",
       "      <td>Marion</td>\n",
       "      <td>14660</td>\n",
       "    </tr>\n",
       "    <tr>\n",
       "      <th>15</th>\n",
       "      <td>Oregon</td>\n",
       "      <td>Multnomah</td>\n",
       "      <td>26180</td>\n",
       "    </tr>\n",
       "  </tbody>\n",
       "</table>\n",
       "</div>"
      ],
      "text/plain": [
       "         state         county   cases\n",
       "0      Arizona       Maricopa  349852\n",
       "1      Arizona         Mohave   13938\n",
       "2      Arizona         Navajo   11991\n",
       "3      Arizona           Pima   75584\n",
       "4   California    Los Angeles  813022\n",
       "5   California         Orange  172458\n",
       "6   California     Sacramento   70164\n",
       "7   California  San_Francisco   24753\n",
       "8       Nevada      Churchill    1426\n",
       "9       Nevada          Clark  176731\n",
       "10      Nevada        Douglas    2047\n",
       "11      Nevada         Washoe   36490\n",
       "12      Oregon      Clackamas   10545\n",
       "13      Oregon           Lane    7287\n",
       "14      Oregon         Marion   14660\n",
       "15      Oregon      Multnomah   26180"
      ]
     },
     "execution_count": 18,
     "metadata": {},
     "output_type": "execute_result"
    }
   ],
   "source": [
    "Problem.df"
   ]
  },
  {
   "cell_type": "code",
   "execution_count": null,
   "id": "3794dd97-434e-4cb7-b7b6-3bc66231e2b7",
   "metadata": {},
   "outputs": [],
   "source": []
  }
 ],
 "metadata": {
  "kernelspec": {
   "display_name": "Python 3 (ipykernel)",
   "language": "python",
   "name": "python3"
  },
  "language_info": {
   "codemirror_mode": {
    "name": "ipython",
    "version": 3
   },
   "file_extension": ".py",
   "mimetype": "text/x-python",
   "name": "python",
   "nbconvert_exporter": "python",
   "pygments_lexer": "ipython3",
   "version": "3.9.7"
  }
 },
 "nbformat": 4,
 "nbformat_minor": 5
}
