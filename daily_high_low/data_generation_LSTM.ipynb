{
 "cells": [
  {
   "cell_type": "code",
   "execution_count": 1,
   "metadata": {},
   "outputs": [],
   "source": [
    "%load_ext autoreload\n",
    "%autoreload 2"
   ]
  },
  {
   "cell_type": "code",
   "execution_count": 2,
   "metadata": {},
   "outputs": [],
   "source": [
    "import pandas as pd\n",
    "import numpy as np\n",
    "import itertools\n",
    "import mplfinance as mpf\n",
    "import re\n",
    "import math\n",
    "from math import floor\n",
    "import sys\n",
    "import os\n",
    "\n",
    "from functions import *\n",
    "from functions.preprocessing import *\n",
    "from functions.swing_points import *\n",
    "from functions.fvg import *\n",
    "\n",
    "quandl_api_key = '_umNYuQHdkCgs9Rcm4Fv'"
   ]
  },
  {
   "cell_type": "code",
   "execution_count": 3,
   "metadata": {},
   "outputs": [],
   "source": [
    "test = False\n",
    "if test:\n",
    "    df_es = pd.read_csv('EP_test_set.csv', sep='\\t')\n",
    "    df_nq = pd.read_csv('ENQ_test_set.csv', sep='\\t')\n",
    "    df_es = preprocess_dataframe(df_es, log_returns=False)\n",
    "    df_nq = preprocess_dataframe(df_nq, log_returns=False)\n",
    "else:    \n",
    "    df_es = pd.read_csv('/Users/kush/Desktop/futures_data/EP.csv', low_memory=True)\n",
    "    df_nq = pd.read_csv('/Users/kush/Desktop/futures_data/ENQ.csv', low_memory=True)\n",
    "    \n",
    "    rows = 100000000#max(len(df_es), len(df_nq)) // 2\n",
    "    df_es = df_es[-rows:]\n",
    "    df_nq = df_nq[-rows:]\n",
    "    \n",
    "    df_es = preprocess_dataframe(df_es, log_returns=False)\n",
    "    df_nq = preprocess_dataframe(df_nq, log_returns=False)\n"
   ]
  },
  {
   "cell_type": "code",
   "execution_count": 30,
   "metadata": {},
   "outputs": [],
   "source": [
    "df_list = []\n",
    "for df in [df_es, df_nq]:\n",
    "    lookback = 20\n",
    "    timeframes = ['1T', '5T', '15T', '1H', '4H', '1B']\n",
    "    timeframes_fvg = ['1T', '5T', '15T', '1H', '4H', '1B']\n",
    "    df = identify_swing_points_optimized(df, timeframes, get_swing_values=False, interpolation_method='None')\n",
    "    df = identify_fair_value_gaps_optimized(df, timeframes_fvg, get_high_low=False)\n",
    "    df_list.append(df)"
   ]
  },
  {
   "cell_type": "code",
   "execution_count": 31,
   "metadata": {},
   "outputs": [],
   "source": [
    "df = pd.merge(df_list[0], df_list[1], 'inner', 'datetime', suffixes=('_es', '_nq'))"
   ]
  },
  {
   "cell_type": "code",
   "execution_count": 32,
   "metadata": {},
   "outputs": [],
   "source": [
    "df = df.assign(\n",
    "    month=df.index.month,\n",
    "    day=df.index.day,\n",
    "    hour=df.index.hour,\n",
    "    minute=df.index.minute,\n",
    "    day_of_week=df.index.dayofweek.astype('int8')\n",
    ")\n",
    "\n",
    "def add_cyclic_date_features(df, column, max_val):\n",
    "    df[f'{column}_sin'] = np.sin(2 * np.pi * df[column] / max_val).astype('float32')\n",
    "    df[f'{column}_cos'] = np.cos(2 * np.pi * df[column] / max_val).astype('float32')\n",
    "    df.drop(columns=column, inplace=True)\n",
    "\n",
    "add_cyclic_date_features(df, 'month', 12)\n",
    "add_cyclic_date_features(df, 'day', 31)\n",
    "add_cyclic_date_features(df, 'hour', 23)\n",
    "add_cyclic_date_features(df, 'minute', 60)\n",
    "add_cyclic_date_features(df, 'day_of_week', 6)\n"
   ]
  },
  {
   "cell_type": "code",
   "execution_count": 33,
   "metadata": {},
   "outputs": [],
   "source": [
    "# Get weekly open and closes and midnight open\n",
    "df['weekly_open'] = df.open_es.resample('W', label='left').first().reindex(df.index, method='ffill')\n",
    "df['weekly_close'] = df.close_es.resample('W', label='left').first().shift(1).reindex(df.index, method='ffill')\n",
    "df['daily_open'] = df.open_es.resample('D', label='left').first().reindex(df.index, method='ffill')"
   ]
  },
  {
   "cell_type": "code",
   "execution_count": 34,
   "metadata": {},
   "outputs": [],
   "source": [
    "price_cols = df.columns[(df>1).any()]\n",
    "cyclical_cols = [c for c in df.columns if re.match(r'^.*(_sin|_cos)', c)]\n",
    "swing_cols = [c for c in df.columns if 'swing' in c]\n",
    "fvg_cols = [c for c in df.columns if 'fair' in c]\n"
   ]
  },
  {
   "cell_type": "code",
   "execution_count": 9,
   "metadata": {},
   "outputs": [],
   "source": [
    "from tsfracdiff import FractionalDifferentiator\n",
    "s = FractionalDifferentiator()\n",
    "\n",
    "df.loc[:, price_cols] = s.FitTransform(df[price_cols])"
   ]
  },
  {
   "cell_type": "code",
   "execution_count": 10,
   "metadata": {},
   "outputs": [],
   "source": [
    "# convert to appropriate dtypes\n",
    "df = df.fillna(0).convert_dtypes()\n",
    "df[swing_cols] = df[swing_cols].astype('bool')\n",
    "df = df.astype({col: 'float32' for col in df.select_dtypes(include='float64').columns})\n",
    "df = df.astype({col: 'int8' for col in df.select_dtypes(include='int64').columns})"
   ]
  },
  {
   "cell_type": "code",
   "execution_count": 99,
   "metadata": {},
   "outputs": [],
   "source": [
    "df.to_parquet('df_LSTM.parquet', index=True)"
   ]
  }
 ],
 "metadata": {
  "kernelspec": {
   "display_name": "Python 3 (ipykernel)",
   "language": "python",
   "name": "python3"
  },
  "language_info": {
   "codemirror_mode": {
    "name": "ipython",
    "version": 3
   },
   "file_extension": ".py",
   "mimetype": "text/x-python",
   "name": "python",
   "nbconvert_exporter": "python",
   "pygments_lexer": "ipython3",
   "version": "3.10.10"
  }
 },
 "nbformat": 4,
 "nbformat_minor": 4
}
