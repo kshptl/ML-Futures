{
 "cells": [
  {
   "cell_type": "code",
   "execution_count": 1,
   "metadata": {},
   "outputs": [],
   "source": [
    "%load_ext autoreload\n",
    "%autoreload 2"
   ]
  },
  {
   "cell_type": "code",
   "execution_count": 2,
   "metadata": {},
   "outputs": [],
   "source": [
    "import pandas as pd\n",
    "import numpy as np\n",
    "import itertools\n",
    "import mplfinance as mpf\n",
    "import re\n",
    "import math\n",
    "from math import floor\n",
    "import sys\n",
    "import os\n",
    "\n",
    "from functions import *\n",
    "from functions.preprocessing import *\n",
    "from functions.swing_points import *\n",
    "from functions.fvg import *\n",
    "\n",
    "quandl_api_key = '_umNYuQHdkCgs9Rcm4Fv'"
   ]
  },
  {
   "cell_type": "code",
   "execution_count": 3,
   "metadata": {},
   "outputs": [],
   "source": [
    "test = False\n",
    "if test:\n",
    "    df_es = pd.read_csv('EP_test_set.csv', sep='\\t')\n",
    "    df_nq = pd.read_csv('ENQ_test_set.csv', sep='\\t')\n",
    "    df_es = preprocess_dataframe(df_es, log_returns=False)\n",
    "    df_nq = preprocess_dataframe(df_nq, log_returns=False)\n",
    "else:    \n",
    "    df_es = pd.read_csv('/Users/kush/Desktop/futures_data/EP.csv', low_memory=True)\n",
    "    df_nq = pd.read_csv('/Users/kush/Desktop/futures_data/ENQ.csv', low_memory=True)\n",
    "    \n",
    "    rows = 100000000#max(len(df_es), len(df_nq)) // 2\n",
    "    df_es = df_es[-rows:]\n",
    "    df_nq = df_nq[-rows:]\n",
    "    \n",
    "    df_es = preprocess_dataframe(df_es, log_returns=False)\n",
    "    df_nq = preprocess_dataframe(df_nq, log_returns=False)\n"
   ]
  },
  {
   "cell_type": "code",
   "execution_count": 4,
   "metadata": {},
   "outputs": [],
   "source": [
    "df_list = []\n",
    "for df in [df_es, df_nq]:\n",
    "    lookback = 20\n",
    "    timeframes = ['1T', '5T', '15T', '1H', '4H', '1B']\n",
    "    timeframes_fvg = ['1T','2T', '3T', '4T', '5T', '15T', '30T', '1H', '4H', '1B']\n",
    "    df = identify_swing_points_optimized(df, timeframes, get_swing_values=False, interpolation_method='None')\n",
    "    df = identify_fair_value_gaps_optimized(df, timeframes_fvg, get_high_low=False)\n",
    "    df_list.append(df)"
   ]
  },
  {
   "cell_type": "code",
   "execution_count": 5,
   "metadata": {},
   "outputs": [],
   "source": [
    "df = pd.merge(df_list[0], df_list[1], 'inner', 'datetime', suffixes=('_es', '_nq'))"
   ]
  },
  {
   "cell_type": "code",
   "execution_count": 6,
   "metadata": {},
   "outputs": [],
   "source": [
    "df = df.assign(\n",
    "    month=df.index.month,\n",
    "    day=df.index.day,\n",
    "    hour=df.index.hour,\n",
    "    minute=df.index.minute,\n",
    "    day_of_week=df.index.dayofweek.astype('int8')\n",
    ")\n",
    "\n",
    "def add_cyclic_date_features(df, column, max_val):\n",
    "    df[f'{column}_sin'] = np.sin(2 * np.pi * df[column] / max_val).astype('float32')\n",
    "    df[f'{column}_cos'] = np.cos(2 * np.pi * df[column] / max_val).astype('float32')\n",
    "    df.drop(columns=column, inplace=True)\n",
    "\n",
    "add_cyclic_date_features(df, 'month', 12)\n",
    "add_cyclic_date_features(df, 'day', 31)\n",
    "add_cyclic_date_features(df, 'hour', 23)\n",
    "add_cyclic_date_features(df, 'minute', 60)\n",
    "add_cyclic_date_features(df, 'day_of_week', 6)\n"
   ]
  },
  {
   "cell_type": "code",
   "execution_count": 8,
   "metadata": {},
   "outputs": [],
   "source": [
    "# Get weekly open and closes and midnight open\n",
    "df['weekly_open'] = df.open_es.resample('W', label='left').first().reindex(df.index, method='ffill')\n",
    "df['weekly_close'] = df.close_es.resample('W', label='left').first().shift(1).reindex(df.index, method='ffill')\n",
    "df['daily_open'] = df.open_es.resample('D', label='left').first().reindex(df.index, method='ffill')"
   ]
  },
  {
   "cell_type": "code",
   "execution_count": 17,
   "metadata": {},
   "outputs": [],
   "source": [
    "# price_cols = df.columns[(df>1).any()]\n",
    "# cyclical_cols = [c for c in df.columns if re.match(r'^.*(_sin|_cos)', c)]\n",
    "swing_cols = [c for c in df.columns if 'swing' in c]\n",
    "fvg_cols = [c for c in df.columns if 'fair' in c]\n"
   ]
  },
  {
   "cell_type": "code",
   "execution_count": 11,
   "metadata": {},
   "outputs": [],
   "source": [
    "# convert to appropriate dtypes\n",
    "df = df.fillna(0).convert_dtypes()\n",
    "df[swing_cols] = df[swing_cols].astype('bool')\n",
    "df = df.astype({col: 'float32' for col in df.select_dtypes(include='float64').columns})\n",
    "df = df.astype({col: 'int8' for col in df.select_dtypes(include='int64').columns})"
   ]
  },
  {
   "cell_type": "code",
   "execution_count": 20,
   "metadata": {},
   "outputs": [],
   "source": [
    "df.to_parquet('df_LSTM.parquet', index=True)"
   ]
  },
  {
   "cell_type": "code",
   "execution_count": null,
   "metadata": {},
   "outputs": [],
   "source": [
    "df.weekly_close.plot()"
   ]
  },
  {
   "cell_type": "code",
   "execution_count": 81,
   "metadata": {},
   "outputs": [],
   "source": [
    "temp = df[:1000000]"
   ]
  },
  {
   "cell_type": "code",
   "execution_count": 97,
   "metadata": {},
   "outputs": [
    {
     "name": "stderr",
     "output_type": "stream",
     "text": [
      "/var/folders/8h/72mwhy0j2fd18ttn3cpr4xnw0000gp/T/ipykernel_67020/3006770952.py:1: SettingWithCopyWarning: \n",
      "A value is trying to be set on a copy of a slice from a DataFrame.\n",
      "Try using .loc[row_indexer,col_indexer] = value instead\n",
      "\n",
      "See the caveats in the documentation: https://pandas.pydata.org/pandas-docs/stable/user_guide/indexing.html#returning-a-view-versus-a-copy\n",
      "  temp['weekly_open'] = temp.open_es.resample('W', label='left').first().reindex(temp.index, method='ffill')\n",
      "/var/folders/8h/72mwhy0j2fd18ttn3cpr4xnw0000gp/T/ipykernel_67020/3006770952.py:2: SettingWithCopyWarning: \n",
      "A value is trying to be set on a copy of a slice from a DataFrame.\n",
      "Try using .loc[row_indexer,col_indexer] = value instead\n",
      "\n",
      "See the caveats in the documentation: https://pandas.pydata.org/pandas-docs/stable/user_guide/indexing.html#returning-a-view-versus-a-copy\n",
      "  temp['weekly_close'] = temp.close_es.resample('W', label='left').first().shift(1).reindex(temp.index, method='ffill')\n"
     ]
    }
   ],
   "source": [
    "temp['weekly_open'] = temp.open_es.resample('W', label='left').first().reindex(temp.index, method='ffill')\n",
    "temp['weekly_close'] = temp.close_es.resample('W', label='left').first().shift(1).reindex(temp.index, method='ffill')"
   ]
  },
  {
   "cell_type": "code",
   "execution_count": 19,
   "metadata": {},
   "outputs": [
    {
     "name": "stdout",
     "output_type": "stream",
     "text": [
      "<class 'pandas.core.frame.DataFrame'>\n",
      "DatetimeIndex: 6156800 entries, 1999-09-09 03:27:00-04:00 to 2023-04-14 16:59:00-04:00\n",
      "Data columns (total 65 columns):\n",
      " #   Column                 Dtype  \n",
      "---  ------                 -----  \n",
      " 0   open_es                float32\n",
      " 1   high_es                float32\n",
      " 2   low_es                 float32\n",
      " 3   close_es               float32\n",
      " 4   swing_high_1T_es       bool   \n",
      " 5   swing_low_1T_es        bool   \n",
      " 6   swing_high_5T_es       bool   \n",
      " 7   swing_low_5T_es        bool   \n",
      " 8   swing_high_15T_es      bool   \n",
      " 9   swing_low_15T_es       bool   \n",
      " 10  swing_high_1H_es       bool   \n",
      " 11  swing_low_1H_es        bool   \n",
      " 12  swing_high_4H_es       bool   \n",
      " 13  swing_low_4H_es        bool   \n",
      " 14  swing_high_1B_es       bool   \n",
      " 15  swing_low_1B_es        bool   \n",
      " 16  fair_value_gap_1T_es   int8   \n",
      " 17  fair_value_gap_2T_es   int8   \n",
      " 18  fair_value_gap_3T_es   int8   \n",
      " 19  fair_value_gap_4T_es   int8   \n",
      " 20  fair_value_gap_5T_es   int8   \n",
      " 21  fair_value_gap_15T_es  int8   \n",
      " 22  fair_value_gap_30T_es  int8   \n",
      " 23  fair_value_gap_1H_es   int8   \n",
      " 24  fair_value_gap_4H_es   int8   \n",
      " 25  fair_value_gap_1B_es   int8   \n",
      " 26  open_nq                float32\n",
      " 27  high_nq                float32\n",
      " 28  low_nq                 float32\n",
      " 29  close_nq               float32\n",
      " 30  swing_high_1T_nq       bool   \n",
      " 31  swing_low_1T_nq        bool   \n",
      " 32  swing_high_5T_nq       bool   \n",
      " 33  swing_low_5T_nq        bool   \n",
      " 34  swing_high_15T_nq      bool   \n",
      " 35  swing_low_15T_nq       bool   \n",
      " 36  swing_high_1H_nq       bool   \n",
      " 37  swing_low_1H_nq        bool   \n",
      " 38  swing_high_4H_nq       bool   \n",
      " 39  swing_low_4H_nq        bool   \n",
      " 40  swing_high_1B_nq       bool   \n",
      " 41  swing_low_1B_nq        bool   \n",
      " 42  fair_value_gap_1T_nq   int8   \n",
      " 43  fair_value_gap_2T_nq   int8   \n",
      " 44  fair_value_gap_3T_nq   int8   \n",
      " 45  fair_value_gap_4T_nq   int8   \n",
      " 46  fair_value_gap_5T_nq   int8   \n",
      " 47  fair_value_gap_15T_nq  int8   \n",
      " 48  fair_value_gap_30T_nq  int8   \n",
      " 49  fair_value_gap_1H_nq   int8   \n",
      " 50  fair_value_gap_4H_nq   int8   \n",
      " 51  fair_value_gap_1B_nq   int8   \n",
      " 52  month_sin              Float32\n",
      " 53  month_cos              Float32\n",
      " 54  day_sin                Float32\n",
      " 55  day_cos                Float32\n",
      " 56  hour_sin               Float32\n",
      " 57  hour_cos               Float32\n",
      " 58  minute_sin             Float32\n",
      " 59  minute_cos             Float32\n",
      " 60  day_of_week_sin        Float32\n",
      " 61  day_of_week_cos        Float32\n",
      " 62  weekly_open            float32\n",
      " 63  weekly_close           float32\n",
      " 64  daily_open             float32\n",
      "dtypes: Float32(10), bool(24), float32(11), int8(20)\n",
      "memory usage: 857.3 MB\n"
     ]
    }
   ],
   "source": [
    "df.info()"
   ]
  },
  {
   "cell_type": "code",
   "execution_count": null,
   "metadata": {},
   "outputs": [],
   "source": []
  },
  {
   "cell_type": "code",
   "execution_count": null,
   "metadata": {},
   "outputs": [],
   "source": []
  }
 ],
 "metadata": {
  "kernelspec": {
   "display_name": "Python 3 (ipykernel)",
   "language": "python",
   "name": "python3"
  },
  "language_info": {
   "codemirror_mode": {
    "name": "ipython",
    "version": 3
   },
   "file_extension": ".py",
   "mimetype": "text/x-python",
   "name": "python",
   "nbconvert_exporter": "python",
   "pygments_lexer": "ipython3",
   "version": "3.10.10"
  }
 },
 "nbformat": 4,
 "nbformat_minor": 4
}
